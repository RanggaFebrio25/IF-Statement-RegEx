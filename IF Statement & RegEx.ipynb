{
  "nbformat": 4,
  "nbformat_minor": 0,
  "metadata": {
    "colab": {
      "provenance": [],
      "collapsed_sections": [
        "osJ-5_q82mQ0",
        "pBCBp05R3tfM",
        "n2WLhJatIwQT",
        "tA5xcw8FFK9l",
        "RguSOtg7FZkd",
        "z7NDbSRwGsIM",
        "sXCRgsyiG1V2"
      ]
    },
    "kernelspec": {
      "name": "python3",
      "display_name": "Python 3"
    },
    "language_info": {
      "name": "python"
    }
  },
  "cells": [
    {
      "cell_type": "markdown",
      "source": [
        "# 1.Tugas Praktek\n",
        "\n",
        "\n",
        "---\n",
        "\n",
        "\n",
        "Buatlah sebuah program yang dapat menentukan suatu variabel\n",
        "apakah merupakan bilangan genap atau ganjil. Lakukan percobaan\n",
        "dengan langkah berikut:\n",
        "\n",
        "1. Buat variabel dengan nama “angka” yang diisi dengan nilai 10\n",
        "\n",
        "2. Gunakan fungsi IF untuk menentukan angka modulus 2 bernilai 0.\n",
        "\n",
        "3. Jika angka bernilai genap maka keluarkan \"angka termasuk\n",
        "bilangan genap\". Selanjutnya, ganti nilai variable angka dengan\n",
        "nilai 5 dan ceklah kembali apakah angka bernilai ganjil. Jika iya,\n",
        "keluarkan \"angka termasuk bilangan ganjil\"\n",
        "\n",
        "\n"
      ],
      "metadata": {
        "id": "osJ-5_q82mQ0"
      }
    },
    {
      "cell_type": "code",
      "source": [
        "# Buat variabel dengan nama \"angka\" dan isi dengan nilai 10\n",
        "angka = 10\n",
        "\n",
        "# Gunakan fungsi IF untuk menentukan apakah angka merupakan bilangan genap atau ganjil\n",
        "if angka % 2 == 0:\n",
        "    print(\"angka termasuk bilangan genap\")\n",
        "else:\n",
        "    print(\"angka termasuk bilangan ganjil\")\n",
        "\n",
        "# Ganti nilai variabel angka dengan nilai 5\n",
        "angka = 5\n",
        "\n",
        "# Cek kembali apakah angka sekarang merupakan bilangan ganjil\n",
        "if angka % 2 != 0:\n",
        "    print(\"angka termasuk bilangan ganjil\")"
      ],
      "metadata": {
        "colab": {
          "base_uri": "https://localhost:8080/"
        },
        "id": "jKnF_-0W2qQJ",
        "outputId": "8d9bf12b-4217-4021-92bd-b6079249957a"
      },
      "execution_count": 57,
      "outputs": [
        {
          "output_type": "stream",
          "name": "stdout",
          "text": [
            "angka termasuk bilangan genap\n",
            "angka termasuk bilangan ganjil\n"
          ]
        }
      ]
    },
    {
      "cell_type": "markdown",
      "source": [
        "# 2.Tugas Praktek\n",
        "\n",
        "---\n",
        "\n",
        "\n",
        "Buatlah sebuah program yang bisa mengeluarkan angka 1 sampai 10.\n",
        "\n",
        "1. Tampilan akan menunjukan \"Angka ganjil 1\" untuk angka ganjil dan\n",
        "2. \"Angka genap 2\" untuk angka genap. (Menggunakan looping for)\n",
        "\n",
        "Note: Kode dasar sudah disertakan, Anda cukup mengganti tanda #\n",
        "dengan nilai-nilai yang sesuai."
      ],
      "metadata": {
        "id": "pBCBp05R3tfM"
      }
    },
    {
      "cell_type": "code",
      "source": [
        "# Gunakan looping for untuk mengiterasi angka dari 1 sampai 10\n",
        "for angka in range(1, 11):\n",
        "    # Gunakan fungsi IF untuk menentukan apakah angka merupakan bilangan genap atau ganjil\n",
        "    if angka % 2 == 0:\n",
        "        print(f\"Termasuk Angka genap  :{angka}\")\n",
        "    else:\n",
        "        print(f\"Termasuk Angka ganjil :{angka}\");\n",
        ""
      ],
      "metadata": {
        "colab": {
          "base_uri": "https://localhost:8080/"
        },
        "id": "CEri4nz93t-7",
        "outputId": "1d181858-a26c-4137-9b16-f4580868d115"
      },
      "execution_count": 14,
      "outputs": [
        {
          "output_type": "stream",
          "name": "stdout",
          "text": [
            "Termasuk Angka ganjil :1\n",
            "Termasuk Angka genap  :2\n",
            "Termasuk Angka ganjil :3\n",
            "Termasuk Angka genap  :4\n",
            "Termasuk Angka ganjil :5\n",
            "Termasuk Angka genap  :6\n",
            "Termasuk Angka ganjil :7\n",
            "Termasuk Angka genap  :8\n",
            "Termasuk Angka ganjil :9\n",
            "Termasuk Angka genap  :10\n"
          ]
        }
      ]
    },
    {
      "cell_type": "markdown",
      "source": [
        "# **Praktikum Regular Expression**\n",
        "\n",
        "Data yang diberikan berupa file yang diberi nama https://storage.googleapis.comdqlab-dataset/dqlabregex.tsv (TSV : Tab Separated Value).\n",
        "\n",
        "Anda diminta untuk melengkapi kode ___ yang telah diberikan melalui Code Editor."
      ],
      "metadata": {
        "id": "n2WLhJatIwQT"
      }
    },
    {
      "cell_type": "code",
      "source": [
        "#Import library yang dibutuhkan\n",
        "import pandas as pd\n",
        "#Baca file dqlabregex.tsv\n",
        "dqlabregex = pd.read_csv(\"https://storage.googleapis.com/dqlab-dataset/dqlabregex.tsv\", sep = '\\t')\n",
        "#Tampilkan hasilnya\n",
        "print(dqlabregex)"
      ],
      "metadata": {
        "colab": {
          "base_uri": "https://localhost:8080/"
        },
        "id": "2Wi0SsG9IvW6",
        "outputId": "def74e5d-467f-4230-b22c-fc798c918bfc"
      },
      "execution_count": 56,
      "outputs": [
        {
          "output_type": "stream",
          "name": "stdout",
          "text": [
            "   no_pencatatan tanggal_catat      kota jumlah_member staf_pencatat\n",
            "0              1    01-05-2020   Jakarta           311         Andra\n",
            "1              2    30-06-2020   Jakarta           1I2         Andra\n",
            "2              3    05/02/2020   Bandung           5S0        Antara\n",
            "3              4    06/28/2020   Bandung           670        Antara\n",
            "4              5    05/10/2020  Semarang           81O         Senja\n",
            "5              6    06/28/2020  Semarang           1O2        Sendja\n"
          ]
        }
      ]
    },
    {
      "cell_type": "markdown",
      "source": [
        "# **Tantangan Pertama anda**"
      ],
      "metadata": {
        "id": "DMG3NC5vL4P8"
      }
    },
    {
      "cell_type": "code",
      "source": [
        "#Import library yang dibutuhkan\n",
        "import pandas as pd\n",
        "\n",
        "#Baca file dqlabregex.tsv\n",
        "dqlabregex = pd.read_csv(\"https://storage.googleapis.com/dqlab-dataset/dqlabregex.tsv\", sep = '\\t')\n",
        "\n",
        "#Buat kolom baru kota_awalan_J_S\n",
        "dqlabregex['kota_awalan_j_s'] = dqlabregex['kota'].str.contains('^(j|s)', case = False)\n",
        "\n",
        "#Tampilkan hasilnya\n",
        "print(dqlabregex[['kota','kota_awalan_j_s']])"
      ],
      "metadata": {
        "colab": {
          "base_uri": "https://localhost:8080/"
        },
        "id": "pYxbdZEiL4zJ",
        "outputId": "21d1b980-7d89-43f4-b476-d02ccb86a316"
      },
      "execution_count": 64,
      "outputs": [
        {
          "output_type": "stream",
          "name": "stdout",
          "text": [
            "       kota  kota_awalan_j_s\n",
            "0   Jakarta             True\n",
            "1   Jakarta             True\n",
            "2   Bandung            False\n",
            "3   Bandung            False\n",
            "4  Semarang             True\n",
            "5  Semarang             True\n"
          ]
        },
        {
          "output_type": "stream",
          "name": "stderr",
          "text": [
            "<ipython-input-64-5ad19509496b>:8: UserWarning: This pattern is interpreted as a regular expression, and has match groups. To actually get the groups, use str.extract.\n",
            "  dqlabregex['kota_awalan_j_s'] = dqlabregex['kota'].str.contains('^(j|s)', case = False)\n"
          ]
        }
      ]
    },
    {
      "cell_type": "markdown",
      "source": [
        "# **Praktikum 1**\n",
        "Tugas membuat kolom baru bernama pencatat_senja berisi nilai kebenaran dari nama petugas\n",
        "pencatat pada kolom staf_pencatat di dataframe dqlabregex dengan nama Senja atau Sendja.\n",
        "Namun pikirkan baik – baik notasi regex yang akan digunakan, sebisa mungkin notasi yang\n",
        "diketikkan sesuai juga dengan teks SenDja, Sen_ja, dan sebagainya yang memungkinkan.\n",
        "Tampilkan kolom staf_pencatat dan pencatat_senja untuk mengetahui hasilnya"
      ],
      "metadata": {
        "id": "tA5xcw8FFK9l"
      }
    },
    {
      "cell_type": "code",
      "source": [
        "#Import library yang dibutuhkan\n",
        "import pandas as pd\n",
        "\n",
        "#Baca file dqlabregex.tsv\n",
        "dqlabregex = pd.read_csv(\"https://storage.googleapis.com/dqlab-dataset/dqlabregex.tsv\", sep = '\\t')\n",
        "\n",
        "#Buat kolom baru pencatat_senja\n",
        "dqlabregex['pencatat_senja'] = dqlabregex['staf_pencatat'].str.contains('Sen.?ja')\n",
        "\n",
        "#Tampilkan hasilnya\n",
        "print(dqlabregex[['staf_pencatat','pencatat_senja']])\n",
        "\n"
      ],
      "metadata": {
        "colab": {
          "base_uri": "https://localhost:8080/"
        },
        "id": "IziYVD2D-QnA",
        "outputId": "f05ed2d7-256c-45d4-ed81-385fbbf2d644"
      },
      "execution_count": 34,
      "outputs": [
        {
          "output_type": "stream",
          "name": "stdout",
          "text": [
            "  staf_pencatat  pencatat_senja\n",
            "0         Andra           False\n",
            "1         Andra           False\n",
            "2        Antara           False\n",
            "3        Antara           False\n",
            "4         Senja            True\n",
            "5        Sendja            True\n"
          ]
        }
      ]
    },
    {
      "cell_type": "markdown",
      "source": [
        "# **Praktikum 2**\n",
        "Pada kolom jumlah_member di tabel dqlabregex, jumlah menunjukkan kuantitas yang artinya hanya\n",
        "angka saja (numerik) yang boleh menjadi isi rownya (record data). Namun pada tabel tersebut\n",
        "terdapat kesalahan pengetikan / penginputan data sehingga terdapat karakter non-numerik pada\n",
        "kolom jumlah_member.\n",
        "Anda diminta untuk memeriksa dan menampilkan kesalahan input data pada kolom tersebut. Coba\n",
        "kamu buat sebuah sintaks yang menampilkan kesalahan penulisan angka pada"
      ],
      "metadata": {
        "id": "RguSOtg7FZkd"
      }
    },
    {
      "cell_type": "code",
      "source": [
        "#Import library yang dibutuhkan\n",
        "import pandas as pd\n",
        "\n",
        "#Baca file dqlabregex.tsv\n",
        "dqlabregex = pd.read_csv(\"https://storage.googleapis.com/dqlab-dataset/dqlabregex.tsv\", sep = '\\t')\n",
        "\n",
        "#Buat kolom baru char_nonnumerik untuk mengetahui jumlah_member non numerik\n",
        "dqlabregex['char_nonnumerik'] = dqlabregex['jumlah_member'].str.contains('[^0-9]')\n",
        "\n",
        "#Tampilkan hasilnya\n",
        "print(dqlabregex[['jumlah_member','char_nonnumerik']])"
      ],
      "metadata": {
        "colab": {
          "base_uri": "https://localhost:8080/"
        },
        "id": "FkiipQd6ASVi",
        "outputId": "5833799b-5364-4d16-e4b4-9d581a9d5eac"
      },
      "execution_count": 35,
      "outputs": [
        {
          "output_type": "stream",
          "name": "stdout",
          "text": [
            "  jumlah_member  char_nonnumerik\n",
            "0           311            False\n",
            "1           1I2             True\n",
            "2           5S0             True\n",
            "3           670            False\n",
            "4           81O             True\n",
            "5           1O2             True\n"
          ]
        }
      ]
    },
    {
      "cell_type": "markdown",
      "source": [
        "# **Tantangan Kedua Anda**\n",
        "Anda mencoba untuk mengubah kata Sendja atau padanannya (jika ada) seperti SenDja, Sen#ja,\n",
        "Sen_ja, Sen7ja, dsb menjadi satu kata 'Senja' yang terdapat di\n",
        "kolom staf_pencatat pada dataframe dqlabregex."
      ],
      "metadata": {
        "id": "h6QLvNv0FcPt"
      }
    },
    {
      "cell_type": "code",
      "source": [
        "# Import library yang dibutuhkan\n",
        "import pandas as pd\n",
        "\n",
        "# Baca file dqlabregex.tsv\n",
        "dqlabregex = pd.read_csv(\"https://storage.googleapis.com/dqlab-dataset/dqlabregex.tsv\", sep='\\t')\n",
        "\n",
        "# Ubah kata Sendja, dsb menjadi Senja pada kolom staf_pencatat\n",
        "dqlabregex['staf_pencatat'] = dqlabregex['staf_pencatat'].str.replace('Sen.?ja', 'Senja', regex=True)\n",
        "\n",
        "# Tampilkan hasilnya\n",
        "print(dqlabregex[['staf_pencatat']])"
      ],
      "metadata": {
        "colab": {
          "base_uri": "https://localhost:8080/"
        },
        "id": "D5aJ30UVAYsf",
        "outputId": "c7e9f428-b83d-4146-98ae-3e3a48bd5da4"
      },
      "execution_count": 46,
      "outputs": [
        {
          "output_type": "stream",
          "name": "stdout",
          "text": [
            "  staf_pencatat\n",
            "0         Andra\n",
            "1         Andra\n",
            "2        Antara\n",
            "3        Antara\n",
            "4         Senja\n",
            "5         Senja\n"
          ]
        }
      ]
    },
    {
      "cell_type": "markdown",
      "source": [
        "# **Tantangan Ketiga Anda**\n",
        "Anda mencoba untuk membuat kolom baru bernama jumlah_member_clean yang berisi hasil\n",
        "pengubahan karakter non-numerik pada kolom jumlah_member yang terdapat\n",
        "pada dataframe dqlabregex dengan ketentuan sebagai berikut :"
      ],
      "metadata": {
        "id": "z7NDbSRwGsIM"
      }
    },
    {
      "cell_type": "code",
      "source": [
        "#Import library yang dibutuhkan\n",
        "import pandas as pd\n",
        "\n",
        "#Baca file dqlabregex.tsv\n",
        "dqlabregex = pd.read_csv(\"https://storage.googleapis.com/dqlab-dataset/dqlabregex.tsv\", sep = '\\t')\n",
        "\n",
        "#Ubah karakter pada kolom jumlah_member sesuai ketentuan\n",
        "mapchange = {'O':'0','I':'1','S':'5'}\n",
        "dqlabregex['jumlah_member_clean'] = dqlabregex['jumlah_member']\n",
        "\n",
        "for ubah, pengubah in mapchange.items():\n",
        " dqlabregex['jumlah_member_clean'] = dqlabregex['jumlah_member'].str.replace(ubah,pengubah, case = False)\n",
        "\n",
        "#Tampilkan hasilnya\n",
        "print(dqlabregex[['jumlah_member', 'jumlah_member_clean']])"
      ],
      "metadata": {
        "colab": {
          "base_uri": "https://localhost:8080/"
        },
        "id": "DUZH4ZX5Gvrr",
        "outputId": "66d063cb-7b74-4452-a222-1e874c6b4747"
      },
      "execution_count": 47,
      "outputs": [
        {
          "output_type": "stream",
          "name": "stdout",
          "text": [
            "  jumlah_member jumlah_member_clean\n",
            "0           311                 311\n",
            "1           1I2                 1I2\n",
            "2           5S0                 550\n",
            "3           670                 670\n",
            "4           81O                 81O\n",
            "5           1O2                 1O2\n"
          ]
        }
      ]
    },
    {
      "cell_type": "markdown",
      "source": [
        "# **Praktikum 3**\n",
        "Anda ingin menghapus kesalahan input data pada kolom jumlah_member yang terdapat\n",
        "pada dataframe dqlabregex. Caranya dengan membuat sebuah sintaks untuk menghapus karakter\n",
        "non-numerik pada kolom tersebut atau dengan kata lain ubah karakter non-numerik menjadi string\n",
        "kosong."
      ],
      "metadata": {
        "id": "sXCRgsyiG1V2"
      }
    },
    {
      "cell_type": "code",
      "source": [
        "# Import library yang dibutuhkan\n",
        "import pandas as pd\n",
        "\n",
        "# Baca file dqlabregex.tsv\n",
        "dqlabregex = pd.read_csv(\"https://storage.googleapis.com/dqlab-dataset/dqlabregex.tsv\", sep='\\t')\n",
        "\n",
        "# Hapus karakter non-numeric pada kolom jumlah_member\n",
        "dqlabregex['jumlah_member'] = dqlabregex['jumlah_member'].str.replace('[^0-9]', '', regex=True)\n",
        "\n",
        "# Tampilkan hasilnya\n",
        "print(dqlabregex[['jumlah_member']])\n"
      ],
      "metadata": {
        "colab": {
          "base_uri": "https://localhost:8080/"
        },
        "id": "3retB07eG5ot",
        "outputId": "0f5a00e4-eaa7-463a-ef35-52d14befc3fa"
      },
      "execution_count": 58,
      "outputs": [
        {
          "output_type": "stream",
          "name": "stdout",
          "text": [
            "  jumlah_member\n",
            "0           311\n",
            "1            12\n",
            "2            50\n",
            "3           670\n",
            "4            81\n",
            "5            12\n"
          ]
        }
      ]
    },
    {
      "cell_type": "markdown",
      "source": [
        "# **Praktikum 4**\n",
        "Perhatikan tabel dqlabregex, pada kolom tanggal_catat ternyata format tanggal\n",
        "pada baris pertama dan kedua berbeda dengan lainnya. Untuk merapikannya, aku\n",
        "memutuskan untuk merubah standarisasi penulisan tanggal DD-MM-YYYY (tanggal -\n",
        "bulan - tahun) menjadi MM/DD/YYYY (bulan / tanggal / tahun) agar seragam."
      ],
      "metadata": {
        "id": "iWAqSJGTHF9k"
      }
    },
    {
      "cell_type": "code",
      "source": [
        "# Import library yang dibutuhkan\n",
        "import pandas as pd\n",
        "\n",
        "# Baca file dqlabregex.tsv\n",
        "dqlabregex = pd.read_csv(\"https://storage.googleapis.com/dqlab-dataset/dqlabregex.tsv\", sep='\\t')\n",
        "\n",
        "# Reformat kolom tanggal_catat\n",
        "dqlabregex['tanggal_catat'] = dqlabregex['tanggal_catat'].str.replace('([0-9]{2})-([0-9]{2})-([0-9]{4})', '\\\\2/\\\\1/\\\\3', regex=True)\n",
        "\n",
        "# Tampilkan hasilnya\n",
        "print(dqlabregex[['tanggal_catat']])\n"
      ],
      "metadata": {
        "colab": {
          "base_uri": "https://localhost:8080/"
        },
        "id": "YB0R4kjyHFHz",
        "outputId": "867d85f6-06d3-48af-a0dc-23d4f96a26d4"
      },
      "execution_count": 51,
      "outputs": [
        {
          "output_type": "stream",
          "name": "stdout",
          "text": [
            "  tanggal_catat\n",
            "0    05/01/2020\n",
            "1    06/30/2020\n",
            "2    05/02/2020\n",
            "3    06/28/2020\n",
            "4    05/10/2020\n",
            "5    06/28/2020\n"
          ]
        }
      ]
    },
    {
      "cell_type": "markdown",
      "source": [
        "# **Ready To Use Data**\n",
        "\n",
        "---\n",
        "\n",
        "\n",
        "Data file https://storage.googleapis.com/dqlab-dataset/dqlabregex.tsv, dan tak lupa memberikan\n",
        "instruksi untuk membaca data dan mengganti record pada masing-masing kolom:\n",
        "1. Pada kolom tanggal_catat ubah semua format tanggalnya menjadi format tanggal menjadi\n",
        "format YYYY-MM-DD. Lalu ubah tipe datanya menjadi datetime dengan bantuan sintaks\n",
        "(pd.datetime(Series))\n",
        "2. Hapus setiap karakter non-numerik pada kolom jumlah_member lalu ubah tipedatanya menjadi\n",
        "integer dengan bantuan sintaks (Series.astype('int'))\n",
        "3. Ubah record yang memuat Sendja maupun padanannya menjadi Senja\n",
        "4. Penamaan kolom dan urutannya tidak ada yang diubah\n",
        "Ubah tabel awal dqlabregex dari Tabel A menjadi Tabel B:"
      ],
      "metadata": {
        "id": "_7CcjwekHOh9"
      }
    },
    {
      "cell_type": "code",
      "source": [
        "#Import library yang dibutuhkan\n",
        "import pandas as pd\n",
        "\n",
        "#Baca file dqlabregex.tsv\n",
        "dqlabregex = pd.read_csv(\"https://storage.googleapis.com/dqlab-dataset/dqlabregex.tsv\", sep = '\\t')\n",
        "print(\"Tabel A:\")\n",
        "print(dqlabregex)\n",
        "\n",
        "#Ubah karakter pada kolom jumlah_member sesuai ketentuan\n",
        "mapchange = {'([0-9]{2})-([0-9]{2})-([0-9]{4})': '\\\\3-\\\\2-\\\\1', '([0-9]{2})/([0-9]{2})/([0-9]{4})' : '\\\\3-\\\\1-\\\\2'}\n",
        "for ubah, pengubah in mapchange.items():\n",
        "  dqlabregex['tanggal_catat'] = dqlabregex['tanggal_catat'].str.replace(ubah, pengubah, regex=True)\n",
        "\n",
        "\n",
        "#Ubah menjadi tipedata datetime pada kolom tanggal_catat\n",
        "dqlabregex['tanggal_catat'] = pd.to_datetime(dqlabregex['tanggal_catat'])\n",
        "\n",
        "#Hapus karakter non numerik pada kolom jumlah_member dan ubah tipedatanya menjadi integer\n",
        "dqlabregex['jumlah_member'] = dqlabregex['jumlah_member'].str.replace('[^0-9]', '', regex=True)\n",
        "dqlabregex['jumlah_member'] = dqlabregex['jumlah_member'].astype('int')\n",
        "\n",
        "#Ubah kata Sendja ataupun padanannya menjadi satu kata 'Senja' pada kolom staf_pencatat\n",
        "dqlabregex['staf_pencatat'] = dqlabregex['staf_pencatat'].str.replace('Sen.?ja', 'Senja', regex=True)\n",
        "\n",
        "#Tampilkan hasilnya\n",
        "print(\"\\nTabel B:\")\n",
        "print(dqlabregex)"
      ],
      "metadata": {
        "colab": {
          "base_uri": "https://localhost:8080/"
        },
        "id": "DKmjfqgVHVHN",
        "outputId": "be7e3d3d-e302-45dc-caec-82c6c3c5e47c"
      },
      "execution_count": 65,
      "outputs": [
        {
          "output_type": "stream",
          "name": "stdout",
          "text": [
            "Tabel A:\n",
            "   no_pencatatan tanggal_catat      kota jumlah_member staf_pencatat\n",
            "0              1    01-05-2020   Jakarta           311         Andra\n",
            "1              2    30-06-2020   Jakarta           1I2         Andra\n",
            "2              3    05/02/2020   Bandung           5S0        Antara\n",
            "3              4    06/28/2020   Bandung           670        Antara\n",
            "4              5    05/10/2020  Semarang           81O         Senja\n",
            "5              6    06/28/2020  Semarang           1O2        Sendja\n",
            "\n",
            "Tabel B:\n",
            "   no_pencatatan tanggal_catat      kota  jumlah_member staf_pencatat\n",
            "0              1    2020-05-01   Jakarta            311         Andra\n",
            "1              2    2020-06-30   Jakarta             12         Andra\n",
            "2              3    2020-05-02   Bandung             50        Antara\n",
            "3              4    2020-06-28   Bandung            670        Antara\n",
            "4              5    2020-05-10  Semarang             81         Senja\n",
            "5              6    2020-06-28  Semarang             12         Senja\n"
          ]
        }
      ]
    }
  ]
}